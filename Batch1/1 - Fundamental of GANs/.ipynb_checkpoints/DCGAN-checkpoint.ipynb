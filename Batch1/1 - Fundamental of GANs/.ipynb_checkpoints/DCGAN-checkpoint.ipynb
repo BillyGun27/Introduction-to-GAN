{
 "cells": [
  {
   "cell_type": "markdown",
   "metadata": {
    "colab_type": "text",
    "id": "UvYDZmH_xHPG"
   },
   "source": [
    "# Generative Adversarial Networks\n",
    "This code is based on https://arxiv.org/abs/1406.2661 paper from Ian J. Goodfellow, Jean Pouget-Abadie, et all"
   ]
  },
  {
   "cell_type": "markdown",
   "metadata": {
    "colab_type": "text",
    "id": "iMD0JWn1xHPJ"
   },
   "source": [
    "![title](https://github.com/muchlisinadi/DSC_UI_GAN/blob/master/batch1/week1/minmax.png?raw=1)"
   ]
  },
  {
   "cell_type": "code",
   "execution_count": 1,
   "metadata": {
    "colab": {
     "base_uri": "https://localhost:8080/",
     "height": 54
    },
    "colab_type": "code",
    "executionInfo": {
     "elapsed": 908,
     "status": "ok",
     "timestamp": 1572647284291,
     "user": {
      "displayName": "Muchlisin Adi Saputra 1306365266",
      "photoUrl": "",
      "userId": "17835414831372489696"
     },
     "user_tz": -420
    },
    "id": "mwd_26tC8NRc",
    "outputId": "8383f033-2374-4423-cbe8-fc33b3845866"
   },
   "outputs": [
    {
     "name": "stdout",
     "output_type": "stream",
     "text": [
      "Drive already mounted at /content/drive; to attempt to forcibly remount, call drive.mount(\"/content/drive\", force_remount=True).\n"
     ]
    }
   ],
   "source": [
    "from google.colab import drive\n",
    "drive.mount('/content/drive')"
   ]
  },
  {
   "cell_type": "code",
   "execution_count": 0,
   "metadata": {
    "colab": {},
    "colab_type": "code",
    "id": "ShCO79wAxHPP"
   },
   "outputs": [],
   "source": [
    "# import All prerequisites\n",
    "import torch\n",
    "import torch.nn as nn\n",
    "import torch.nn.functional as F\n",
    "import torch.optim as optim\n",
    "from torchvision import datasets, transforms\n",
    "from torch.autograd import Variable\n",
    "from torchvision.utils import save_image\n",
    "import numpy as np\n",
    "\n",
    "# Device configuration\n",
    "device = torch.device('cuda' if torch.cuda.is_available() else 'cpu')\n",
    "ROOT = \"/content/drive/My Drive/Colab Notebooks/DSC_UI_GAN/Batch1/W1/\""
   ]
  },
  {
   "cell_type": "markdown",
   "metadata": {
    "colab_type": "text",
    "id": "cu6vT-jDxHPT"
   },
   "source": [
    "## Dataset"
   ]
  },
  {
   "cell_type": "code",
   "execution_count": 0,
   "metadata": {
    "colab": {},
    "colab_type": "code",
    "id": "gU5JFzeGxHPU"
   },
   "outputs": [],
   "source": [
    "batch_size = 100\n",
    "\n",
    "# MNIST Dataset\n",
    "transform = transforms.Compose([\n",
    "    transforms.ToTensor(),\n",
    "    transforms.Normalize([0.5], [0.5])])\n",
    "\n",
    "train_dataset = datasets.MNIST(root='./mnist_data/', train=True, transform=transform, download=True)\n",
    "\n",
    "# Data Loader (Input Pipeline)\n",
    "train_loader = torch.utils.data.DataLoader(dataset=train_dataset, batch_size=batch_size, shuffle=True)\n",
    "\n",
    "examples = enumerate(train_loader)\n",
    "batch_idx, (example_data, example_targets) = next(examples)"
   ]
  },
  {
   "cell_type": "code",
   "execution_count": 4,
   "metadata": {
    "colab": {
     "base_uri": "https://localhost:8080/",
     "height": 551
    },
    "colab_type": "code",
    "executionInfo": {
     "elapsed": 2014,
     "status": "ok",
     "timestamp": 1572647285437,
     "user": {
      "displayName": "Muchlisin Adi Saputra 1306365266",
      "photoUrl": "",
      "userId": "17835414831372489696"
     },
     "user_tz": -420
    },
    "id": "Vn1wgnIkxHPX",
    "outputId": "eed50711-1a19-419d-ce5b-f8d0dc323ac6"
   },
   "outputs": [
    {
     "data": {
      "image/png": "[encoded data removed]",
      "text/plain": [
       "<Figure size 432x288 with 6 Axes>"
      ]
     },
     "execution_count": 4,
     "metadata": {
      "tags": []
     },
     "output_type": "execute_result"
    },
    {
     "data": {
      "image/png": "[encoded data removed]",
      "text/plain": [
       "<Figure size 432x288 with 6 Axes>"
      ]
     },
     "metadata": {
      "tags": []
     },
     "output_type": "display_data"
    }
   ],
   "source": [
    "## Print example\n",
    "import matplotlib.pyplot as plt\n",
    "\n",
    "fig = plt.figure()\n",
    "for i in range(6):\n",
    "  plt.subplot(2,3,i+1)\n",
    "  plt.tight_layout()\n",
    "  plt.imshow(example_data[i][0], cmap='gray', interpolation='none')\n",
    "  plt.title(\"Ground Truth: {}\".format(example_targets[i]))\n",
    "  plt.xticks([])\n",
    "  plt.yticks([])\n",
    "fig"
   ]
  },
  {
   "cell_type": "markdown",
   "metadata": {
    "colab_type": "text",
    "id": "wLypGXB6xHPb"
   },
   "source": [
    "## Build Network"
   ]
  },
  {
   "cell_type": "markdown",
   "metadata": {
    "colab_type": "text",
    "id": "UJ_q5BflxHPc"
   },
   "source": [
    "![title](https://miro.medium.com/max/1600/1*M_YipQF_oC6owsU1VVrfhg.jpeg)\n",
    "resource : https://medium.com/@jonathan_hui/gan-whats-generative-adversarial-networks-and-its-application-f39ed278ef09"
   ]
  },
  {
   "cell_type": "code",
   "execution_count": null,
   "metadata": {},
   "outputs": [],
   "source": [
    "class Generator(nn.Module):\n",
    "    def __init__(self, z_dim=100, img_dim=(1, 28, 28)):\n",
    "        super(NormalGenerator, self).__init__()\n",
    "        img_size = img_dim[1]\n",
    "        img_channels = img_dim[0]\n",
    "\n",
    "        self.img_dim = img_dim\n",
    "        self.init_size = img_size // 4\n",
    "        self.z_dim = z_dim\n",
    "        self.linear_model = nn.Sequential(\n",
    "            nn.Linear(self.z_dim, 128 * self.init_size ** 2))\n",
    "\n",
    "        self.conv_model = nn.Sequential(\n",
    "            nn.BatchNorm2d(128),\n",
    "            nn.Upsample(scale_factor=2),\n",
    "            nn.Conv2d(128, 128, 3, stride=1, padding=1),\n",
    "            nn.BatchNorm2d(128, 0.8),\n",
    "            nn.LeakyReLU(0.2, inplace=True),\n",
    "            nn.Upsample(scale_factor=2),\n",
    "            nn.Conv2d(128, 64, 3, stride=1, padding=1),\n",
    "            nn.BatchNorm2d(64, 0.8),\n",
    "            nn.LeakyReLU(0.2, inplace=True),\n",
    "            nn.Conv2d(64, img_channels, 3, stride=1, padding=1),\n",
    "            nn.Tanh(),\n",
    "        )\n",
    "\n",
    "    def forward(self, z_input):\n",
    "        out_ = self.linear_model(z_input)\n",
    "        out_ = out_.view(out_.shape[0], 128, self.init_size, self.init_size)\n",
    "        x = self.conv_model(out_)\n",
    "        return x\n",
    "\n",
    "\n",
    "class Discriminator(nn.Module):\n",
    "    def __init__(self, img_dim=(1, 28, 28)):\n",
    "        super(NormalDiscriminator, self).__init__()\n",
    "        img_size = img_dim[1]\n",
    "        img_channels = img_dim[0]\n",
    "\n",
    "        self.img_dim = img_dim\n",
    "\n",
    "        def conv_block(in_filters, out_filters, bn=True):\n",
    "            block = [nn.Conv2d(in_filters, out_filters, 3, 2, 1), nn.LeakyReLU(\n",
    "                0.2, inplace=True), nn.Dropout2d(0.25)]\n",
    "            if bn:\n",
    "                block.append(nn.BatchNorm2d(out_filters, 0.8))\n",
    "            return block\n",
    "\n",
    "        self.conv_model = nn.Sequential(\n",
    "            *conv_block(img_channels, 16, bn=False),\n",
    "            *conv_block(16, 32),\n",
    "            *conv_block(32, 64),\n",
    "            *conv_block(64, 128),\n",
    "        )\n",
    "\n",
    "        # The height and width of downsampled image\n",
    "        ds_size = 2  # img_size // 2 ** 4\n",
    "        self.linear_model = nn.Sequential(\n",
    "            nn.Linear(128 * ds_size ** 2, 1), nn.Sigmoid())\n",
    "\n",
    "    def forward(self, img_input):\n",
    "        x = self.conv_model(img_input)\n",
    "        x = x.view(x.shape[0], -1)\n",
    "        x = self.linear_model(x)\n",
    "        return x"
   ]
  },
  {
   "cell_type": "code",
   "execution_count": 6,
   "metadata": {
    "colab": {
     "base_uri": "https://localhost:8080/",
     "height": 72
    },
    "colab_type": "code",
    "executionInfo": {
     "elapsed": 4316,
     "status": "ok",
     "timestamp": 1572647287772,
     "user": {
      "displayName": "Muchlisin Adi Saputra 1306365266",
      "photoUrl": "",
      "userId": "17835414831372489696"
     },
     "user_tz": -420
    },
    "id": "jNo6QGSAxHPg",
    "outputId": "3e926661-bc38-47fb-e5f7-9dbfa41fc825"
   },
   "outputs": [
    {
     "name": "stderr",
     "output_type": "stream",
     "text": [
      "/usr/local/lib/python3.6/dist-packages/torchvision/datasets/mnist.py:53: UserWarning: train_data has been renamed data\n",
      "  warnings.warn(\"train_data has been renamed data\")\n"
     ]
    }
   ],
   "source": [
    "# build network\n",
    "z_dim = 100\n",
    "mnist_dim = train_dataset.train_data.size(1) * train_dataset.train_data.size(2)\n",
    "\n",
    "G = Generator(z_dim=z_dim, img_dim=(1, 28, 28)).to(device)\n",
    "D = Discriminator(img_dim=(1, 28, 28)).to(device)"
   ]
  },
  {
   "cell_type": "code",
   "execution_count": 7,
   "metadata": {
    "colab": {
     "base_uri": "https://localhost:8080/",
     "height": 469
    },
    "colab_type": "code",
    "executionInfo": {
     "elapsed": 4304,
     "status": "ok",
     "timestamp": 1572647287774,
     "user": {
      "displayName": "Muchlisin Adi Saputra 1306365266",
      "photoUrl": "",
      "userId": "17835414831372489696"
     },
     "user_tz": -420
    },
    "id": "zyDlKGOqxHPj",
    "outputId": "8dd5b5c2-365a-4714-8f2e-a778ffdfc0a3"
   },
   "outputs": [
    {
     "name": "stdout",
     "output_type": "stream",
     "text": [
      "Generator(\n",
      "  (model): Sequential(\n",
      "    (0): Linear(in_features=100, out_features=128, bias=True)\n",
      "    (1): LeakyReLU(negative_slope=0.2, inplace=True)\n",
      "    (2): Linear(in_features=128, out_features=256, bias=True)\n",
      "    (3): BatchNorm1d(256, eps=0.8, momentum=0.1, affine=True, track_running_stats=True)\n",
      "    (4): LeakyReLU(negative_slope=0.2, inplace=True)\n",
      "    (5): Linear(in_features=256, out_features=512, bias=True)\n",
      "    (6): BatchNorm1d(512, eps=0.8, momentum=0.1, affine=True, track_running_stats=True)\n",
      "    (7): LeakyReLU(negative_slope=0.2, inplace=True)\n",
      "    (8): Linear(in_features=512, out_features=1024, bias=True)\n",
      "    (9): BatchNorm1d(1024, eps=0.8, momentum=0.1, affine=True, track_running_stats=True)\n",
      "    (10): LeakyReLU(negative_slope=0.2, inplace=True)\n",
      "    (11): Linear(in_features=1024, out_features=784, bias=True)\n",
      "    (12): Tanh()\n",
      "  )\n",
      ") Discriminator(\n",
      "  (model): Sequential(\n",
      "    (0): Linear(in_features=784, out_features=512, bias=True)\n",
      "    (1): LeakyReLU(negative_slope=0.2, inplace=True)\n",
      "    (2): Linear(in_features=512, out_features=256, bias=True)\n",
      "    (3): LeakyReLU(negative_slope=0.2, inplace=True)\n",
      "    (4): Linear(in_features=256, out_features=1, bias=True)\n",
      "    (5): Sigmoid()\n",
      "  )\n",
      ")\n"
     ]
    }
   ],
   "source": [
    "print(G, D)"
   ]
  },
  {
   "cell_type": "markdown",
   "metadata": {
    "colab_type": "text",
    "id": "pw6SuIw-xHPm"
   },
   "source": [
    "# Train Process"
   ]
  },
  {
   "cell_type": "code",
   "execution_count": 0,
   "metadata": {
    "colab": {},
    "colab_type": "code",
    "id": "v0jzHUZ7xHPn"
   },
   "outputs": [],
   "source": [
    "# loss\n",
    "criterion = nn.BCELoss() \n",
    "\n",
    "# optimizer\n",
    "lr = 0.0002\n",
    "b1 = 0.5\n",
    "b2 = 0.999\n",
    "G_optimizer = torch.optim.Adam(G.parameters(), lr=lr, betas=(b1, b2))\n",
    "D_optimizer = torch.optim.Adam(D.parameters(), lr=lr, betas=(b1, b2))"
   ]
  },
  {
   "cell_type": "markdown",
   "metadata": {
    "colab_type": "text",
    "id": "kAH0rt4zxHPq"
   },
   "source": [
    "### Why Binary Cross Entropy ?"
   ]
  },
  {
   "cell_type": "markdown",
   "metadata": {
    "colab_type": "text",
    "id": "CUXei7RixHPr"
   },
   "source": [
    "![title](https://github.com/muchlisinadi/DSC_UI_GAN/blob/master/batch1/week1/BCELoss.png?raw=1)"
   ]
  },
  {
   "cell_type": "markdown",
   "metadata": {
    "colab_type": "text",
    "id": "Dq0ckidKxHPs"
   },
   "source": [
    "### Discriminator Update"
   ]
  },
  {
   "cell_type": "markdown",
   "metadata": {
    "colab_type": "text",
    "id": "ZRXPjUQ8xHPu"
   },
   "source": [
    "![title](https://miro.medium.com/max/1720/1*4xAHMaUGXeOQnNJhzjq-4Q.jpeg)"
   ]
  },
  {
   "cell_type": "markdown",
   "metadata": {
    "colab_type": "text",
    "id": "1k9X4YhGxHPz"
   },
   "source": [
    "### Generator Update"
   ]
  },
  {
   "cell_type": "markdown",
   "metadata": {
    "colab_type": "text",
    "id": "uLDNX_vKxHP0"
   },
   "source": [
    "### Before : <br>\n",
    "![title](https://miro.medium.com/max/1224/1*n235XEigXKL3ktL08d-CZA.jpeg) <br>\n",
    "### Because Generator diminished gradient: <br>\n",
    "In practice, equation 1 may not provide sufficient gradient for G to learn well.  Early in learning, when G is poor,D can reject samples with high confidence because they are clearly different fromthe training data.  In this case, log(1−D(G(z))) saturates.  Rather than training G to minimize log(1−D(G(z))) we can train G to maximize logD(G(z)). This objective function results in thesame fixed point of the dynamics of G and D but provides much stronger gradients early in learning. (GAN Paper)<br>\n",
    "\n",
    "![title](https://miro.medium.com/max/1517/1*6So6q3dWurG8qrmwk1y3jw.jpeg) <br>"
   ]
  },
  {
   "cell_type": "code",
   "execution_count": 0,
   "metadata": {
    "colab": {
     "base_uri": "https://localhost:8080/",
     "height": 1000
    },
    "colab_type": "code",
    "executionInfo": {
     "elapsed": 64298,
     "status": "error",
     "timestamp": 1572646592735,
     "user": {
      "displayName": "Muchlisin Adi Saputra 1306365266",
      "photoUrl": "",
      "userId": "17835414831372489696"
     },
     "user_tz": -420
    },
    "id": "NX2eNdar64Xs",
    "outputId": "2f8fbc72-9810-47e4-d071-0b66d98a4729"
   },
   "outputs": [
    {
     "name": "stdout",
     "output_type": "stream",
     "text": [
      "[Epoch 0/200] [Batch 0/600] [D loss: 0.672629] [G loss: 0.718289]\n",
      "[Epoch 0/200] [Batch 300/600] [D loss: 0.525954] [G loss: 1.035763]\n",
      "[Epoch 1/200] [Batch 0/600] [D loss: 0.487692] [G loss: 0.853348]\n",
      "[Epoch 1/200] [Batch 300/600] [D loss: 0.362092] [G loss: 0.910943]\n",
      "[Epoch 2/200] [Batch 0/600] [D loss: 0.317175] [G loss: 1.666999]\n",
      "[Epoch 2/200] [Batch 300/600] [D loss: 0.340499] [G loss: 1.058032]\n",
      "[Epoch 3/200] [Batch 0/600] [D loss: 0.320626] [G loss: 1.648210]\n",
      "[Epoch 3/200] [Batch 300/600] [D loss: 0.273704] [G loss: 1.251731]\n",
      "[Epoch 4/200] [Batch 0/600] [D loss: 0.314576] [G loss: 1.135395]\n",
      "[Epoch 4/200] [Batch 300/600] [D loss: 0.557768] [G loss: 0.554418]\n",
      "[Epoch 5/200] [Batch 0/600] [D loss: 0.212887] [G loss: 1.849806]\n",
      "[Epoch 5/200] [Batch 300/600] [D loss: 0.345930] [G loss: 1.052477]\n",
      "[Epoch 6/200] [Batch 0/600] [D loss: 0.512333] [G loss: 3.889980]\n",
      "[Epoch 6/200] [Batch 300/600] [D loss: 0.225671] [G loss: 1.580570]\n",
      "[Epoch 7/200] [Batch 0/600] [D loss: 0.351296] [G loss: 2.876074]\n",
      "[Epoch 7/200] [Batch 300/600] [D loss: 0.215525] [G loss: 2.720519]\n",
      "[Epoch 8/200] [Batch 0/600] [D loss: 0.164517] [G loss: 2.734270]\n",
      "[Epoch 8/200] [Batch 300/600] [D loss: 0.263598] [G loss: 1.266533]\n",
      "[Epoch 9/200] [Batch 0/600] [D loss: 0.267152] [G loss: 2.833316]\n",
      "[Epoch 9/200] [Batch 300/600] [D loss: 0.339379] [G loss: 1.756152]\n",
      "[Epoch 10/200] [Batch 0/600] [D loss: 0.294904] [G loss: 3.498767]\n",
      "[Epoch 10/200] [Batch 300/600] [D loss: 0.181946] [G loss: 2.368709]\n",
      "[Epoch 11/200] [Batch 0/600] [D loss: 0.203361] [G loss: 1.442133]\n",
      "[Epoch 11/200] [Batch 300/600] [D loss: 0.200330] [G loss: 1.462164]\n",
      "[Epoch 12/200] [Batch 0/600] [D loss: 0.184884] [G loss: 2.402766]\n",
      "[Epoch 12/200] [Batch 300/600] [D loss: 0.132845] [G loss: 1.855809]\n",
      "[Epoch 13/200] [Batch 0/600] [D loss: 0.380838] [G loss: 0.934783]\n",
      "[Epoch 13/200] [Batch 300/600] [D loss: 0.140941] [G loss: 2.753262]\n",
      "[Epoch 14/200] [Batch 0/600] [D loss: 0.197437] [G loss: 2.221492]\n",
      "[Epoch 14/200] [Batch 300/600] [D loss: 0.068012] [G loss: 3.278993]\n",
      "[Epoch 15/200] [Batch 0/600] [D loss: 0.185778] [G loss: 2.110098]\n",
      "[Epoch 15/200] [Batch 300/600] [D loss: 0.092919] [G loss: 2.983985]\n",
      "[Epoch 16/200] [Batch 0/600] [D loss: 0.182962] [G loss: 1.965892]\n",
      "[Epoch 16/200] [Batch 300/600] [D loss: 0.184681] [G loss: 2.426325]\n",
      "[Epoch 17/200] [Batch 0/600] [D loss: 0.074307] [G loss: 3.634369]\n",
      "[Epoch 17/200] [Batch 300/600] [D loss: 0.233575] [G loss: 3.387808]\n",
      "[Epoch 18/200] [Batch 0/600] [D loss: 0.260172] [G loss: 1.661705]\n",
      "[Epoch 18/200] [Batch 300/600] [D loss: 0.229294] [G loss: 1.886500]\n",
      "[Epoch 19/200] [Batch 0/600] [D loss: 0.203859] [G loss: 3.242213]\n",
      "[Epoch 19/200] [Batch 300/600] [D loss: 0.305656] [G loss: 1.160868]\n",
      "[Epoch 20/200] [Batch 0/600] [D loss: 0.125028] [G loss: 5.638501]\n",
      "[Epoch 20/200] [Batch 300/600] [D loss: 0.123734] [G loss: 2.704532]\n",
      "[Epoch 21/200] [Batch 0/600] [D loss: 0.135739] [G loss: 3.271777]\n",
      "[Epoch 21/200] [Batch 300/600] [D loss: 0.109780] [G loss: 3.207101]\n",
      "[Epoch 22/200] [Batch 0/600] [D loss: 0.173986] [G loss: 2.098422]\n",
      "[Epoch 22/200] [Batch 300/600] [D loss: 0.207707] [G loss: 1.448907]\n",
      "[Epoch 23/200] [Batch 0/600] [D loss: 0.205523] [G loss: 3.646933]\n",
      "[Epoch 23/200] [Batch 300/600] [D loss: 0.150042] [G loss: 2.480058]\n",
      "[Epoch 24/200] [Batch 0/600] [D loss: 0.306807] [G loss: 1.007659]\n",
      "[Epoch 24/200] [Batch 300/600] [D loss: 0.196469] [G loss: 1.948711]\n",
      "[Epoch 25/200] [Batch 0/600] [D loss: 0.108304] [G loss: 3.395142]\n",
      "[Epoch 25/200] [Batch 300/600] [D loss: 0.160990] [G loss: 2.982061]\n",
      "[Epoch 26/200] [Batch 0/600] [D loss: 0.161128] [G loss: 3.701444]\n",
      "[Epoch 26/200] [Batch 300/600] [D loss: 0.349564] [G loss: 1.840867]\n",
      "[Epoch 27/200] [Batch 0/600] [D loss: 0.084747] [G loss: 3.108246]\n",
      "[Epoch 27/200] [Batch 300/600] [D loss: 0.166672] [G loss: 2.335755]\n",
      "[Epoch 28/200] [Batch 0/600] [D loss: 0.224250] [G loss: 1.360311]\n",
      "[Epoch 28/200] [Batch 300/600] [D loss: 0.191991] [G loss: 2.543197]\n",
      "[Epoch 29/200] [Batch 0/600] [D loss: 0.168914] [G loss: 2.488811]\n",
      "[Epoch 29/200] [Batch 300/600] [D loss: 0.272809] [G loss: 3.161167]\n",
      "[Epoch 30/200] [Batch 0/600] [D loss: 0.115381] [G loss: 3.282074]\n",
      "[Epoch 30/200] [Batch 300/600] [D loss: 0.115497] [G loss: 2.487820]\n",
      "[Epoch 31/200] [Batch 0/600] [D loss: 0.191542] [G loss: 1.835630]\n",
      "[Epoch 31/200] [Batch 300/600] [D loss: 0.163754] [G loss: 2.208431]\n",
      "[Epoch 32/200] [Batch 0/600] [D loss: 0.200686] [G loss: 4.760751]\n",
      "[Epoch 32/200] [Batch 300/600] [D loss: 0.133760] [G loss: 2.265532]\n",
      "[Epoch 33/200] [Batch 0/600] [D loss: 0.103521] [G loss: 2.681802]\n",
      "[Epoch 33/200] [Batch 300/600] [D loss: 0.155918] [G loss: 4.379477]\n",
      "[Epoch 34/200] [Batch 0/600] [D loss: 0.123814] [G loss: 6.607515]\n",
      "[Epoch 34/200] [Batch 300/600] [D loss: 0.166421] [G loss: 3.192551]\n",
      "[Epoch 35/200] [Batch 0/600] [D loss: 0.188987] [G loss: 2.568639]\n",
      "[Epoch 35/200] [Batch 300/600] [D loss: 0.145879] [G loss: 2.559463]\n",
      "[Epoch 36/200] [Batch 0/600] [D loss: 0.115826] [G loss: 4.009007]\n",
      "[Epoch 36/200] [Batch 300/600] [D loss: 0.128769] [G loss: 2.941931]\n",
      "[Epoch 37/200] [Batch 0/600] [D loss: 0.115107] [G loss: 2.804768]\n",
      "[Epoch 37/200] [Batch 300/600] [D loss: 0.151703] [G loss: 2.575033]\n",
      "[Epoch 38/200] [Batch 0/600] [D loss: 0.152355] [G loss: 2.842324]\n",
      "[Epoch 38/200] [Batch 300/600] [D loss: 0.100378] [G loss: 4.429636]\n",
      "[Epoch 39/200] [Batch 0/600] [D loss: 0.212899] [G loss: 1.638516]\n",
      "[Epoch 39/200] [Batch 300/600] [D loss: 0.077984] [G loss: 5.179465]\n",
      "[Epoch 40/200] [Batch 0/600] [D loss: 0.102422] [G loss: 2.464819]\n",
      "[Epoch 40/200] [Batch 300/600] [D loss: 0.148745] [G loss: 2.175438]\n",
      "[Epoch 41/200] [Batch 0/600] [D loss: 0.061319] [G loss: 2.935631]\n",
      "[Epoch 41/200] [Batch 300/600] [D loss: 0.105168] [G loss: 3.970762]\n",
      "[Epoch 42/200] [Batch 0/600] [D loss: 0.295739] [G loss: 2.282284]\n",
      "[Epoch 42/200] [Batch 300/600] [D loss: 0.216406] [G loss: 4.411835]\n",
      "[Epoch 43/200] [Batch 0/600] [D loss: 0.176601] [G loss: 2.431715]\n",
      "[Epoch 43/200] [Batch 300/600] [D loss: 0.419673] [G loss: 6.183638]\n",
      "[Epoch 44/200] [Batch 0/600] [D loss: 0.222847] [G loss: 2.792053]\n",
      "[Epoch 44/200] [Batch 300/600] [D loss: 0.194234] [G loss: 2.985660]\n",
      "[Epoch 45/200] [Batch 0/600] [D loss: 0.148568] [G loss: 2.832594]\n",
      "[Epoch 45/200] [Batch 300/600] [D loss: 0.132820] [G loss: 3.047990]\n",
      "[Epoch 46/200] [Batch 0/600] [D loss: 0.278573] [G loss: 6.457705]\n",
      "[Epoch 46/200] [Batch 300/600] [D loss: 0.183759] [G loss: 2.200760]\n",
      "[Epoch 47/200] [Batch 0/600] [D loss: 0.167566] [G loss: 2.855206]\n",
      "[Epoch 47/200] [Batch 300/600] [D loss: 0.153285] [G loss: 4.195418]\n",
      "[Epoch 48/200] [Batch 0/600] [D loss: 0.083523] [G loss: 2.719372]\n",
      "[Epoch 48/200] [Batch 300/600] [D loss: 0.193431] [G loss: 2.571358]\n",
      "[Epoch 49/200] [Batch 0/600] [D loss: 0.088921] [G loss: 3.845442]\n",
      "[Epoch 49/200] [Batch 300/600] [D loss: 0.113618] [G loss: 3.255934]\n",
      "[Epoch 50/200] [Batch 0/600] [D loss: 0.168794] [G loss: 3.022938]\n",
      "[Epoch 50/200] [Batch 300/600] [D loss: 0.106482] [G loss: 3.308064]\n",
      "[Epoch 51/200] [Batch 0/600] [D loss: 0.042528] [G loss: 4.382036]\n",
      "[Epoch 51/200] [Batch 300/600] [D loss: 0.121364] [G loss: 2.479928]\n",
      "[Epoch 52/200] [Batch 0/600] [D loss: 0.187891] [G loss: 3.122872]\n",
      "[Epoch 52/200] [Batch 300/600] [D loss: 0.152947] [G loss: 1.913126]\n",
      "[Epoch 53/200] [Batch 0/600] [D loss: 0.147546] [G loss: 3.626502]\n",
      "[Epoch 53/200] [Batch 300/600] [D loss: 0.172077] [G loss: 3.585800]\n",
      "[Epoch 54/200] [Batch 0/600] [D loss: 0.182181] [G loss: 3.159274]\n",
      "[Epoch 54/200] [Batch 300/600] [D loss: 0.145491] [G loss: 1.693040]\n",
      "[Epoch 55/200] [Batch 0/600] [D loss: 0.495974] [G loss: 7.135283]\n",
      "[Epoch 55/200] [Batch 300/600] [D loss: 0.116613] [G loss: 4.136540]\n",
      "[Epoch 56/200] [Batch 0/600] [D loss: 0.147111] [G loss: 3.452556]\n",
      "[Epoch 56/200] [Batch 300/600] [D loss: 0.097360] [G loss: 3.732553]\n",
      "[Epoch 57/200] [Batch 0/600] [D loss: 0.080659] [G loss: 3.569792]\n",
      "[Epoch 57/200] [Batch 300/600] [D loss: 0.174117] [G loss: 1.849795]\n",
      "[Epoch 58/200] [Batch 0/600] [D loss: 0.169671] [G loss: 2.362820]\n",
      "[Epoch 58/200] [Batch 300/600] [D loss: 0.232326] [G loss: 1.852676]\n",
      "[Epoch 59/200] [Batch 0/600] [D loss: 0.137092] [G loss: 2.384515]\n",
      "[Epoch 59/200] [Batch 300/600] [D loss: 0.158432] [G loss: 2.711631]\n",
      "[Epoch 60/200] [Batch 0/600] [D loss: 0.229354] [G loss: 1.870538]\n",
      "[Epoch 60/200] [Batch 300/600] [D loss: 0.148180] [G loss: 2.089880]\n",
      "[Epoch 61/200] [Batch 0/600] [D loss: 0.186056] [G loss: 4.353440]\n",
      "[Epoch 61/200] [Batch 300/600] [D loss: 0.282902] [G loss: 7.662325]\n",
      "[Epoch 62/200] [Batch 0/600] [D loss: 0.102835] [G loss: 4.429796]\n",
      "[Epoch 62/200] [Batch 300/600] [D loss: 0.092959] [G loss: 2.425856]\n",
      "[Epoch 63/200] [Batch 0/600] [D loss: 0.081112] [G loss: 3.740392]\n",
      "[Epoch 63/200] [Batch 300/600] [D loss: 0.128486] [G loss: 2.793381]\n",
      "[Epoch 64/200] [Batch 0/600] [D loss: 0.134669] [G loss: 2.243714]\n",
      "[Epoch 64/200] [Batch 300/600] [D loss: 0.200884] [G loss: 2.512537]\n",
      "[Epoch 65/200] [Batch 0/600] [D loss: 0.156475] [G loss: 3.293481]\n",
      "[Epoch 65/200] [Batch 300/600] [D loss: 0.156260] [G loss: 5.238761]\n",
      "[Epoch 66/200] [Batch 0/600] [D loss: 0.144765] [G loss: 4.508188]\n",
      "[Epoch 66/200] [Batch 300/600] [D loss: 0.166192] [G loss: 4.101498]\n",
      "[Epoch 67/200] [Batch 0/600] [D loss: 0.164232] [G loss: 3.922636]\n",
      "[Epoch 67/200] [Batch 300/600] [D loss: 0.362272] [G loss: 1.662844]\n",
      "[Epoch 68/200] [Batch 0/600] [D loss: 0.164080] [G loss: 1.924675]\n",
      "[Epoch 68/200] [Batch 300/600] [D loss: 0.100199] [G loss: 2.692280]\n",
      "[Epoch 69/200] [Batch 0/600] [D loss: 0.251654] [G loss: 1.620381]\n",
      "[Epoch 69/200] [Batch 300/600] [D loss: 0.346078] [G loss: 7.009434]\n",
      "[Epoch 70/200] [Batch 0/600] [D loss: 0.214003] [G loss: 3.578233]\n",
      "[Epoch 70/200] [Batch 300/600] [D loss: 0.084591] [G loss: 2.962661]\n",
      "[Epoch 71/200] [Batch 0/600] [D loss: 0.142839] [G loss: 4.360670]\n",
      "[Epoch 71/200] [Batch 300/600] [D loss: 0.122143] [G loss: 2.416596]\n",
      "[Epoch 72/200] [Batch 0/600] [D loss: 0.084197] [G loss: 4.440333]\n",
      "[Epoch 72/200] [Batch 300/600] [D loss: 0.112612] [G loss: 2.736804]\n",
      "[Epoch 73/200] [Batch 0/600] [D loss: 0.144879] [G loss: 3.874706]\n",
      "[Epoch 73/200] [Batch 300/600] [D loss: 0.171228] [G loss: 2.186162]\n",
      "[Epoch 74/200] [Batch 0/600] [D loss: 0.245350] [G loss: 3.309742]\n",
      "[Epoch 74/200] [Batch 300/600] [D loss: 0.205183] [G loss: 3.764778]\n",
      "[Epoch 75/200] [Batch 0/600] [D loss: 0.143321] [G loss: 2.544532]\n",
      "[Epoch 75/200] [Batch 300/600] [D loss: 0.141242] [G loss: 2.114534]\n",
      "[Epoch 76/200] [Batch 0/600] [D loss: 0.187719] [G loss: 4.064357]\n",
      "[Epoch 76/200] [Batch 300/600] [D loss: 0.164225] [G loss: 2.203065]\n",
      "[Epoch 77/200] [Batch 0/600] [D loss: 0.256802] [G loss: 2.823810]\n",
      "[Epoch 77/200] [Batch 300/600] [D loss: 0.149942] [G loss: 2.190369]\n",
      "[Epoch 78/200] [Batch 0/600] [D loss: 0.167824] [G loss: 2.411045]\n",
      "[Epoch 78/200] [Batch 300/600] [D loss: 0.141087] [G loss: 2.230250]\n",
      "[Epoch 79/200] [Batch 0/600] [D loss: 0.167265] [G loss: 3.127171]\n",
      "[Epoch 79/200] [Batch 300/600] [D loss: 0.166337] [G loss: 3.076431]\n",
      "[Epoch 80/200] [Batch 0/600] [D loss: 0.264846] [G loss: 1.436367]\n",
      "[Epoch 80/200] [Batch 300/600] [D loss: 0.142203] [G loss: 4.337371]\n",
      "[Epoch 81/200] [Batch 0/600] [D loss: 0.142224] [G loss: 2.536630]\n",
      "[Epoch 81/200] [Batch 300/600] [D loss: 0.156724] [G loss: 3.612599]\n",
      "[Epoch 82/200] [Batch 0/600] [D loss: 0.284532] [G loss: 1.825960]\n",
      "[Epoch 82/200] [Batch 300/600] [D loss: 0.174834] [G loss: 2.130871]\n",
      "[Epoch 83/200] [Batch 0/600] [D loss: 0.090731] [G loss: 3.270148]\n",
      "[Epoch 83/200] [Batch 300/600] [D loss: 0.146451] [G loss: 2.737815]\n",
      "[Epoch 84/200] [Batch 0/600] [D loss: 0.221208] [G loss: 4.672517]\n",
      "[Epoch 84/200] [Batch 300/600] [D loss: 0.119784] [G loss: 3.401246]\n",
      "[Epoch 85/200] [Batch 0/600] [D loss: 0.191432] [G loss: 1.647913]\n",
      "[Epoch 85/200] [Batch 300/600] [D loss: 0.098194] [G loss: 3.398962]\n",
      "[Epoch 86/200] [Batch 0/600] [D loss: 0.197046] [G loss: 2.239567]\n",
      "[Epoch 86/200] [Batch 300/600] [D loss: 0.202937] [G loss: 2.333792]\n",
      "[Epoch 87/200] [Batch 0/600] [D loss: 0.298044] [G loss: 1.363166]\n",
      "[Epoch 87/200] [Batch 300/600] [D loss: 0.120518] [G loss: 2.553301]\n",
      "[Epoch 88/200] [Batch 0/600] [D loss: 0.145601] [G loss: 3.460134]\n",
      "[Epoch 88/200] [Batch 300/600] [D loss: 0.149975] [G loss: 2.775134]\n",
      "[Epoch 89/200] [Batch 0/600] [D loss: 0.237267] [G loss: 1.785302]\n",
      "[Epoch 89/200] [Batch 300/600] [D loss: 0.102703] [G loss: 2.960909]\n",
      "[Epoch 90/200] [Batch 0/600] [D loss: 0.218154] [G loss: 2.453160]\n",
      "[Epoch 90/200] [Batch 300/600] [D loss: 0.231946] [G loss: 3.156985]\n",
      "[Epoch 91/200] [Batch 0/600] [D loss: 0.142099] [G loss: 2.559675]\n",
      "[Epoch 91/200] [Batch 300/600] [D loss: 0.155160] [G loss: 2.317512]\n",
      "[Epoch 92/200] [Batch 0/600] [D loss: 0.128616] [G loss: 2.742586]\n",
      "[Epoch 92/200] [Batch 300/600] [D loss: 0.112119] [G loss: 2.950532]\n",
      "[Epoch 93/200] [Batch 0/600] [D loss: 0.286999] [G loss: 6.247541]\n",
      "[Epoch 93/200] [Batch 300/600] [D loss: 0.145135] [G loss: 3.176577]\n",
      "[Epoch 94/200] [Batch 0/600] [D loss: 0.159155] [G loss: 3.088279]\n",
      "[Epoch 94/200] [Batch 300/600] [D loss: 0.133448] [G loss: 2.926852]\n",
      "[Epoch 95/200] [Batch 0/600] [D loss: 0.238213] [G loss: 5.665673]\n",
      "[Epoch 95/200] [Batch 300/600] [D loss: 0.160749] [G loss: 3.585735]\n",
      "[Epoch 96/200] [Batch 0/600] [D loss: 0.159915] [G loss: 2.012029]\n",
      "[Epoch 96/200] [Batch 300/600] [D loss: 0.152434] [G loss: 2.621027]\n",
      "[Epoch 97/200] [Batch 0/600] [D loss: 0.319654] [G loss: 2.498996]\n",
      "[Epoch 97/200] [Batch 300/600] [D loss: 0.183211] [G loss: 2.185059]\n",
      "[Epoch 98/200] [Batch 0/600] [D loss: 0.456066] [G loss: 1.078002]\n",
      "[Epoch 98/200] [Batch 300/600] [D loss: 0.193235] [G loss: 3.349806]\n"
     ]
    }
   ],
   "source": [
    "Tensor = torch.cuda.FloatTensor if torch.cuda.is_available() else torch.FloatTensor\n",
    "epochs = 200\n",
    "for epoch in range(epochs):\n",
    "    for i, (imgs, _) in enumerate(train_loader):\n",
    "\n",
    "        # Adversarial ground truths\n",
    "        valid = Variable(Tensor(imgs.size(0), 1).fill_(1.0), requires_grad=False)\n",
    "        fake = Variable(Tensor(imgs.size(0), 1).fill_(0.0), requires_grad=False)\n",
    "\n",
    "        # Configure input\n",
    "        real_imgs = Variable(imgs.type(Tensor))\n",
    "\n",
    "        # -----------------\n",
    "        #  Train Generator\n",
    "        # -----------------\n",
    "\n",
    "        G_optimizer.zero_grad()\n",
    "\n",
    "        # Sample noise as generator input\n",
    "        z = Variable(Tensor(np.random.normal(0, 1, (imgs.shape[0], z_dim))))\n",
    "\n",
    "        # Generate a batch of images\n",
    "        gen_imgs = G(z)\n",
    "\n",
    "        # Loss measures generator's ability to fool the discriminator\n",
    "        g_loss = criterion(D(gen_imgs), valid)\n",
    "\n",
    "        g_loss.backward()\n",
    "        G_optimizer.step()\n",
    "\n",
    "        # ---------------------\n",
    "        #  Train Discriminator\n",
    "        # ---------------------\n",
    "\n",
    "        D_optimizer.zero_grad()\n",
    "\n",
    "        # Measure discriminator's ability to classify real from generated samples\n",
    "        real_loss = criterion(D(real_imgs), valid)\n",
    "        fake_loss = criterion(D(gen_imgs.detach()), fake)\n",
    "        d_loss = (real_loss + fake_loss) / 2\n",
    "\n",
    "        d_loss.backward()\n",
    "        D_optimizer.step()\n",
    "        if i % 300 == 0:\n",
    "            print(\n",
    "              \"[Epoch %d/%d] [Batch %d/%d] [D loss: %f] [G loss: %f]\"\n",
    "              % (epoch, epochs, i, len(train_loader), d_loss.item(), g_loss.item()))\n",
    "\n",
    "    if epoch % 5 == 0:\n",
    "        save_image(gen_imgs.view(gen_imgs.size(0), 1, 28, 28), ROOT + \"sample/%d.png\" % epoch, nrow=5, normalize=True)\n",
    "\n",
    "torch.save(G, ROOT + 'G.pt')\n",
    "torch.save(D, ROOT + 'D.pt')"
   ]
  }
 ],
 "metadata": {
  "accelerator": "GPU",
  "colab": {
   "collapsed_sections": [],
   "name": "Copy of W1 .ipynb",
   "provenance": [
    {
     "file_id": "1eweqg9Qaci_mo5rhnH7knZCqZZ7FDkLy",
     "timestamp": 1572649016096
    },
    {
     "file_id": "https://github.com/muchlisinadi/DSC_UI_GAN/blob/master/batch1/week1/W1.ipynb",
     "timestamp": 1572627799240
    }
   ],
   "toc_visible": true
  },
  "kernelspec": {
   "display_name": "Python 3",
   "language": "python",
   "name": "python3"
  },
  "language_info": {
   "codemirror_mode": {
    "name": "ipython",
    "version": 3
   },
   "file_extension": ".py",
   "mimetype": "text/x-python",
   "name": "python",
   "nbconvert_exporter": "python",
   "pygments_lexer": "ipython3",
   "version": "3.6.9"
  }
 },
 "nbformat": 4,
 "nbformat_minor": 1
}
